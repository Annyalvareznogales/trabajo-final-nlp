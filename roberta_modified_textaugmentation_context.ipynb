{
 "cells": [
  {
   "cell_type": "markdown",
   "metadata": {
    "id": "sLvGqxBNeVrR"
   },
   "source": [
    "# Fine Tuning Transformer for Text Classification"
   ]
  },
  {
   "cell_type": "code",
   "execution_count": 1,
   "metadata": {
    "id": "pzM1_ykHaFur"
   },
   "outputs": [
    {
     "name": "stderr",
     "output_type": "stream",
     "text": [
      "/opt/conda/lib/python3.8/site-packages/torchvision/io/image.py:13: UserWarning: Failed to load image Python extension: libtorch_cuda_cu.so: cannot open shared object file: No such file or directory\n",
      "  warn(f\"Failed to load image Python extension: {e}\")\n"
     ]
    }
   ],
   "source": [
    "import json\n",
    "import torch\n",
    "import numpy as np\n",
    "import pandas as pd\n",
    "import transformers\n",
    "import transformers\n",
    "import torch.nn as nn\n",
    "from sklearn import metrics\n",
    "from sklearn.model_selection import KFold\n",
    "from sklearn.metrics import classification_report\n",
    "from sklearn.model_selection import StratifiedKFold\n",
    "from sklearn.metrics import accuracy_score, f1_score, matthews_corrcoef\n",
    "from sklearn.metrics import accuracy_score, precision_recall_fscore_support\n",
    "from torch.utils.data import Dataset, DataLoader, RandomSampler, SequentialSampler\n",
    "from transformers import AutoTokenizer, AutoModelForSequenceClassification, Trainer, RobertaTokenizer, RobertaModel"
   ]
  },
  {
   "cell_type": "code",
   "execution_count": 2,
   "metadata": {
    "id": "NLxxwd1scQNv"
   },
   "outputs": [],
   "source": [
    "from torch import cuda\n",
    "device = 'cuda' if cuda.is_available() else 'cpu'"
   ]
  },
  {
   "cell_type": "markdown",
   "metadata": {
    "id": "DCaDM5rkmsf9"
   },
   "source": [
    "# Datos"
   ]
  },
  {
   "cell_type": "code",
   "execution_count": null,
   "metadata": {
    "colab": {
     "base_uri": "https://localhost:8080/",
     "height": 178
    },
    "id": "mZ7lTlkyaG7u",
    "outputId": "7cd98f99-8a93-4e72-d12a-ce38d627906f"
   },
   "outputs": [
    {
     "data": {
      "text/html": [
       "<div>\n",
       "<style scoped>\n",
       "    .dataframe tbody tr th:only-of-type {\n",
       "        vertical-align: middle;\n",
       "    }\n",
       "\n",
       "    .dataframe tbody tr th {\n",
       "        vertical-align: top;\n",
       "    }\n",
       "\n",
       "    .dataframe thead th {\n",
       "        text-align: right;\n",
       "    }\n",
       "</style>\n",
       "<table border=\"1\" class=\"dataframe\">\n",
       "  <thead>\n",
       "    <tr style=\"text-align: right;\">\n",
       "      <th></th>\n",
       "      <th>count</th>\n",
       "    </tr>\n",
       "    <tr>\n",
       "      <th>category</th>\n",
       "      <th></th>\n",
       "    </tr>\n",
       "  </thead>\n",
       "  <tbody>\n",
       "    <tr>\n",
       "      <th>CRITICAL</th>\n",
       "      <td>2621</td>\n",
       "    </tr>\n",
       "    <tr>\n",
       "      <th>CONSPIRACY</th>\n",
       "      <td>1379</td>\n",
       "    </tr>\n",
       "  </tbody>\n",
       "</table>\n",
       "</div><br><label><b>dtype:</b> int64</label>"
      ],
      "text/plain": [
       "category\n",
       "CRITICAL      2621\n",
       "CONSPIRACY    1379\n",
       "Name: count, dtype: int64"
      ]
     },
     "execution_count": 2,
     "metadata": {},
     "output_type": "execute_result"
    }
   ],
   "source": [
    "df = pd.read_csv('dataset_en_train_completed.csv')\n",
    "df=df.iloc[:4000,:]\n",
    "df.category.value_counts()"
   ]
  },
  {
   "cell_type": "markdown",
   "metadata": {
    "id": "rinAOGUjmsf-"
   },
   "source": [
    "# Datos Balanceados (Aumento de Datos)"
   ]
  },
  {
   "cell_type": "code",
   "execution_count": null,
   "metadata": {
    "id": "7GhxP1owmsf_"
   },
   "outputs": [],
   "source": [
    "df= pd.read_csv('dataset_en_train_completed.csv')\n",
    "df= df.iloc[:4000]\n",
    "#df\n",
    "\n",
    "df_augmented= pd.read_csv('dataset_en_train_completed.csv')\n",
    "df_augmented= df_augmented.iloc[4000:]\n",
    "#df_augmented"
   ]
  },
  {
   "cell_type": "code",
   "execution_count": null,
   "metadata": {
    "id": "W4K5aVHFmsgA"
   },
   "outputs": [],
   "source": [
    "original_counts = df['category'].value_counts()\n",
    "df_conspiracy = df[df['category'] == 'CONSPIRACY']\n",
    "df_conspiracy_augmented = df_augmented[df_augmented['category'] == 'CONSPIRACY']\n",
    "critical_count = original_counts.get('CRITICAL', 0)  # Asegurarnos que 'CRITICAL' existe\n",
    "conspiracy_count = original_counts.get('CONSPIRACY', 0)\n"
   ]
  },
  {
   "cell_type": "code",
   "execution_count": null,
   "metadata": {
    "id": "oZNTqKKsmsgA"
   },
   "outputs": [],
   "source": [
    "df_conspiracy = df_augmented[df_augmented['category'] == 'CONSPIRACY']\n",
    "\n",
    "# Seleccionar 1242 filas aleatorias para balancear el dataset \n",
    "df_conspiracy_sampled = df_conspiracy.sample(n=1242, random_state=42)\n",
    "df_combined = pd.concat([df, df_conspiracy_sampled])\n",
    "\n",
    "df_combined.reset_index(drop=True, inplace=True)\n",
    "df=df_combined.copy()"
   ]
  },
  {
   "cell_type": "markdown",
   "metadata": {},
   "source": [
    "# Generación de Prompts (emoción y moralidad reflejada en texto)"
   ]
  },
  {
   "cell_type": "code",
   "execution_count": null,
   "metadata": {
    "colab": {
     "base_uri": "https://localhost:8080/",
     "height": 87
    },
    "id": "JQKfvpCFmsgB",
    "outputId": "181a0b02-69ee-48a1-841c-342d72d87d44"
   },
   "outputs": [
    {
     "data": {
      "application/vnd.google.colaboratory.intrinsic+json": {
       "type": "string"
      },
      "text/plain": [
       "'how the cia is directly involved in every aspect of the creation of the vaccine passports . groups created by the cia like palantir , mitre , oracle , and google , funded through the cias venture capital firm , in q tel , are are involved . every one of them are listed on the organizational member lists of the private companies in charge of the creation of all worldwide passports . full article . dailyveracity . com the shadowy cia data firms behind the creation of digital vaccine passport ids full video . bitchute . com video ufysjysoe donna. The text reflects the emotion: inspiration and the moral value: loyalty'"
      ]
     },
     "execution_count": 10,
     "metadata": {},
     "output_type": "execute_result"
    }
   ],
   "source": [
    "def add_context(df):\n",
    "    df['text'] =   df['text'] + '. The text reflects the emotion: ' + df['max_emotion'] + ' and the moral value: ' + df['max_moral']\n",
    "    return df\n",
    "\n",
    "\n",
    "df=add_context(df)\n",
    "df.loc[0].text"
   ]
  },
  {
   "cell_type": "markdown",
   "metadata": {
    "id": "B39VMmbEmsgC"
   },
   "source": [
    "# Transformar etiqueta de categórica a numérica\n",
    "\n",
    "Critical = 1\n",
    "Conspirancy = 0"
   ]
  },
  {
   "cell_type": "code",
   "execution_count": null,
   "metadata": {
    "colab": {
     "base_uri": "https://localhost:8080/",
     "height": 423
    },
    "id": "ixRQy14FmsgC",
    "outputId": "0906b8f5-98e8-40f6-db47-45d7df833d87"
   },
   "outputs": [
    {
     "data": {
      "application/vnd.google.colaboratory.intrinsic+json": {
       "summary": "{\n  \"name\": \"new_df\",\n  \"rows\": 5242,\n  \"fields\": [\n    {\n      \"column\": \"text\",\n      \"properties\": {\n        \"dtype\": \"string\",\n        \"num_unique_values\": 5225,\n        \"samples\": [\n          \". blog . tdg . ch archive vaccin contre le covid la mise en garde du pr perronne . html the auto translate works pretty well . you should certainly read this .... when you have , the shameless pro vaccination propaganda of the lyingpress becomes really creepy .. The text reflects the emotion: amusement and the moral value: no moral\",\n          \"the alzheimer s patient in the white house will be stumbling and mumbling over a prepared , deep state orchestrated speech tonight from a teleprompter at est . in this speech , biden is expected to make remarks about his desire to ban guns and infringe our nd amendment right shall not infringe the answer to this communist gun grabbing bullshit is. The text reflects the emotion: amusement and the moral value: fairness\",\n          \"on the vaccine not sure what you think about it , but i wo nt ever take this hellish piece of technological fluid . ask yourself why is it necessary to bribe people to take it why do you have to fake the story of margaret keenan see image the old lady who is said to be year old margaret keenan is apparently a crisis actor and was given a placebo . margaret keenan is dead since . stay away from any vaccination davidjohnson. The text reflects the emotion: inspiration and the moral value: betrayal\"\n        ],\n        \"semantic_type\": \"\",\n        \"description\": \"\"\n      }\n    },\n    {\n      \"column\": \"class\",\n      \"properties\": {\n        \"dtype\": \"number\",\n        \"std\": 0,\n        \"min\": 0,\n        \"max\": 1,\n        \"num_unique_values\": 2,\n        \"samples\": [\n          1,\n          0\n        ],\n        \"semantic_type\": \"\",\n        \"description\": \"\"\n      }\n    }\n  ]\n}",
       "type": "dataframe",
       "variable_name": "new_df"
      },
      "text/html": [
       "\n",
       "  <div id=\"df-69e0d91a-30ff-466c-abc4-c167c7c56e3a\" class=\"colab-df-container\">\n",
       "    <div>\n",
       "<style scoped>\n",
       "    .dataframe tbody tr th:only-of-type {\n",
       "        vertical-align: middle;\n",
       "    }\n",
       "\n",
       "    .dataframe tbody tr th {\n",
       "        vertical-align: top;\n",
       "    }\n",
       "\n",
       "    .dataframe thead th {\n",
       "        text-align: right;\n",
       "    }\n",
       "</style>\n",
       "<table border=\"1\" class=\"dataframe\">\n",
       "  <thead>\n",
       "    <tr style=\"text-align: right;\">\n",
       "      <th></th>\n",
       "      <th>text</th>\n",
       "      <th>class</th>\n",
       "    </tr>\n",
       "  </thead>\n",
       "  <tbody>\n",
       "    <tr>\n",
       "      <th>0</th>\n",
       "      <td>how the cia is directly involved in every aspe...</td>\n",
       "      <td>0</td>\n",
       "    </tr>\n",
       "    <tr>\n",
       "      <th>1</th>\n",
       "      <td>elon musk admits i felt like i was dying after...</td>\n",
       "      <td>1</td>\n",
       "    </tr>\n",
       "    <tr>\n",
       "      <th>2</th>\n",
       "      <td>the uk gov. quietly published data confirming ...</td>\n",
       "      <td>1</td>\n",
       "    </tr>\n",
       "    <tr>\n",
       "      <th>3</th>\n",
       "      <td>the global economic terror regime, which is lo...</td>\n",
       "      <td>0</td>\n",
       "    </tr>\n",
       "    <tr>\n",
       "      <th>4</th>\n",
       "      <td>confirmed pharma fags crashed into a covid vac...</td>\n",
       "      <td>1</td>\n",
       "    </tr>\n",
       "    <tr>\n",
       "      <th>...</th>\n",
       "      <td>...</td>\n",
       "      <td>...</td>\n",
       "    </tr>\n",
       "    <tr>\n",
       "      <th>5237</th>\n",
       "      <td>coming soon doctors for covid ethics fourth sy...</td>\n",
       "      <td>1</td>\n",
       "    </tr>\n",
       "    <tr>\n",
       "      <th>5238</th>\n",
       "      <td>the vaccine mandates as i said last year have ...</td>\n",
       "      <td>1</td>\n",
       "    </tr>\n",
       "    <tr>\n",
       "      <th>5239</th>\n",
       "      <td>Minority report in real life a group of social...</td>\n",
       "      <td>0</td>\n",
       "    </tr>\n",
       "    <tr>\n",
       "      <th>5240</th>\n",
       "      <td>This is the reason why the Cabal does not want...</td>\n",
       "      <td>0</td>\n",
       "    </tr>\n",
       "    <tr>\n",
       "      <th>5241</th>\n",
       "      <td>did you know the cdc is actually a vaccine com...</td>\n",
       "      <td>1</td>\n",
       "    </tr>\n",
       "  </tbody>\n",
       "</table>\n",
       "<p>5242 rows × 2 columns</p>\n",
       "</div>\n",
       "    <div class=\"colab-df-buttons\">\n",
       "\n",
       "  <div class=\"colab-df-container\">\n",
       "    <button class=\"colab-df-convert\" onclick=\"convertToInteractive('df-69e0d91a-30ff-466c-abc4-c167c7c56e3a')\"\n",
       "            title=\"Convert this dataframe to an interactive table.\"\n",
       "            style=\"display:none;\">\n",
       "\n",
       "  <svg xmlns=\"http://www.w3.org/2000/svg\" height=\"24px\" viewBox=\"0 -960 960 960\">\n",
       "    <path d=\"M120-120v-720h720v720H120Zm60-500h600v-160H180v160Zm220 220h160v-160H400v160Zm0 220h160v-160H400v160ZM180-400h160v-160H180v160Zm440 0h160v-160H620v160ZM180-180h160v-160H180v160Zm440 0h160v-160H620v160Z\"/>\n",
       "  </svg>\n",
       "    </button>\n",
       "\n",
       "  <style>\n",
       "    .colab-df-container {\n",
       "      display:flex;\n",
       "      gap: 12px;\n",
       "    }\n",
       "\n",
       "    .colab-df-convert {\n",
       "      background-color: #E8F0FE;\n",
       "      border: none;\n",
       "      border-radius: 50%;\n",
       "      cursor: pointer;\n",
       "      display: none;\n",
       "      fill: #1967D2;\n",
       "      height: 32px;\n",
       "      padding: 0 0 0 0;\n",
       "      width: 32px;\n",
       "    }\n",
       "\n",
       "    .colab-df-convert:hover {\n",
       "      background-color: #E2EBFA;\n",
       "      box-shadow: 0px 1px 2px rgba(60, 64, 67, 0.3), 0px 1px 3px 1px rgba(60, 64, 67, 0.15);\n",
       "      fill: #174EA6;\n",
       "    }\n",
       "\n",
       "    .colab-df-buttons div {\n",
       "      margin-bottom: 4px;\n",
       "    }\n",
       "\n",
       "    [theme=dark] .colab-df-convert {\n",
       "      background-color: #3B4455;\n",
       "      fill: #D2E3FC;\n",
       "    }\n",
       "\n",
       "    [theme=dark] .colab-df-convert:hover {\n",
       "      background-color: #434B5C;\n",
       "      box-shadow: 0px 1px 3px 1px rgba(0, 0, 0, 0.15);\n",
       "      filter: drop-shadow(0px 1px 2px rgba(0, 0, 0, 0.3));\n",
       "      fill: #FFFFFF;\n",
       "    }\n",
       "  </style>\n",
       "\n",
       "    <script>\n",
       "      const buttonEl =\n",
       "        document.querySelector('#df-69e0d91a-30ff-466c-abc4-c167c7c56e3a button.colab-df-convert');\n",
       "      buttonEl.style.display =\n",
       "        google.colab.kernel.accessAllowed ? 'block' : 'none';\n",
       "\n",
       "      async function convertToInteractive(key) {\n",
       "        const element = document.querySelector('#df-69e0d91a-30ff-466c-abc4-c167c7c56e3a');\n",
       "        const dataTable =\n",
       "          await google.colab.kernel.invokeFunction('convertToInteractive',\n",
       "                                                    [key], {});\n",
       "        if (!dataTable) return;\n",
       "\n",
       "        const docLinkHtml = 'Like what you see? Visit the ' +\n",
       "          '<a target=\"_blank\" href=https://colab.research.google.com/notebooks/data_table.ipynb>data table notebook</a>'\n",
       "          + ' to learn more about interactive tables.';\n",
       "        element.innerHTML = '';\n",
       "        dataTable['output_type'] = 'display_data';\n",
       "        await google.colab.output.renderOutput(dataTable, element);\n",
       "        const docLink = document.createElement('div');\n",
       "        docLink.innerHTML = docLinkHtml;\n",
       "        element.appendChild(docLink);\n",
       "      }\n",
       "    </script>\n",
       "  </div>\n",
       "\n",
       "\n",
       "<div id=\"df-2d9787ae-fc04-4d71-bec7-9c8b3204cd67\">\n",
       "  <button class=\"colab-df-quickchart\" onclick=\"quickchart('df-2d9787ae-fc04-4d71-bec7-9c8b3204cd67')\"\n",
       "            title=\"Suggest charts\"\n",
       "            style=\"display:none;\">\n",
       "\n",
       "<svg xmlns=\"http://www.w3.org/2000/svg\" height=\"24px\"viewBox=\"0 0 24 24\"\n",
       "     width=\"24px\">\n",
       "    <g>\n",
       "        <path d=\"M19 3H5c-1.1 0-2 .9-2 2v14c0 1.1.9 2 2 2h14c1.1 0 2-.9 2-2V5c0-1.1-.9-2-2-2zM9 17H7v-7h2v7zm4 0h-2V7h2v10zm4 0h-2v-4h2v4z\"/>\n",
       "    </g>\n",
       "</svg>\n",
       "  </button>\n",
       "\n",
       "<style>\n",
       "  .colab-df-quickchart {\n",
       "      --bg-color: #E8F0FE;\n",
       "      --fill-color: #1967D2;\n",
       "      --hover-bg-color: #E2EBFA;\n",
       "      --hover-fill-color: #174EA6;\n",
       "      --disabled-fill-color: #AAA;\n",
       "      --disabled-bg-color: #DDD;\n",
       "  }\n",
       "\n",
       "  [theme=dark] .colab-df-quickchart {\n",
       "      --bg-color: #3B4455;\n",
       "      --fill-color: #D2E3FC;\n",
       "      --hover-bg-color: #434B5C;\n",
       "      --hover-fill-color: #FFFFFF;\n",
       "      --disabled-bg-color: #3B4455;\n",
       "      --disabled-fill-color: #666;\n",
       "  }\n",
       "\n",
       "  .colab-df-quickchart {\n",
       "    background-color: var(--bg-color);\n",
       "    border: none;\n",
       "    border-radius: 50%;\n",
       "    cursor: pointer;\n",
       "    display: none;\n",
       "    fill: var(--fill-color);\n",
       "    height: 32px;\n",
       "    padding: 0;\n",
       "    width: 32px;\n",
       "  }\n",
       "\n",
       "  .colab-df-quickchart:hover {\n",
       "    background-color: var(--hover-bg-color);\n",
       "    box-shadow: 0 1px 2px rgba(60, 64, 67, 0.3), 0 1px 3px 1px rgba(60, 64, 67, 0.15);\n",
       "    fill: var(--button-hover-fill-color);\n",
       "  }\n",
       "\n",
       "  .colab-df-quickchart-complete:disabled,\n",
       "  .colab-df-quickchart-complete:disabled:hover {\n",
       "    background-color: var(--disabled-bg-color);\n",
       "    fill: var(--disabled-fill-color);\n",
       "    box-shadow: none;\n",
       "  }\n",
       "\n",
       "  .colab-df-spinner {\n",
       "    border: 2px solid var(--fill-color);\n",
       "    border-color: transparent;\n",
       "    border-bottom-color: var(--fill-color);\n",
       "    animation:\n",
       "      spin 1s steps(1) infinite;\n",
       "  }\n",
       "\n",
       "  @keyframes spin {\n",
       "    0% {\n",
       "      border-color: transparent;\n",
       "      border-bottom-color: var(--fill-color);\n",
       "      border-left-color: var(--fill-color);\n",
       "    }\n",
       "    20% {\n",
       "      border-color: transparent;\n",
       "      border-left-color: var(--fill-color);\n",
       "      border-top-color: var(--fill-color);\n",
       "    }\n",
       "    30% {\n",
       "      border-color: transparent;\n",
       "      border-left-color: var(--fill-color);\n",
       "      border-top-color: var(--fill-color);\n",
       "      border-right-color: var(--fill-color);\n",
       "    }\n",
       "    40% {\n",
       "      border-color: transparent;\n",
       "      border-right-color: var(--fill-color);\n",
       "      border-top-color: var(--fill-color);\n",
       "    }\n",
       "    60% {\n",
       "      border-color: transparent;\n",
       "      border-right-color: var(--fill-color);\n",
       "    }\n",
       "    80% {\n",
       "      border-color: transparent;\n",
       "      border-right-color: var(--fill-color);\n",
       "      border-bottom-color: var(--fill-color);\n",
       "    }\n",
       "    90% {\n",
       "      border-color: transparent;\n",
       "      border-bottom-color: var(--fill-color);\n",
       "    }\n",
       "  }\n",
       "</style>\n",
       "\n",
       "  <script>\n",
       "    async function quickchart(key) {\n",
       "      const quickchartButtonEl =\n",
       "        document.querySelector('#' + key + ' button');\n",
       "      quickchartButtonEl.disabled = true;  // To prevent multiple clicks.\n",
       "      quickchartButtonEl.classList.add('colab-df-spinner');\n",
       "      try {\n",
       "        const charts = await google.colab.kernel.invokeFunction(\n",
       "            'suggestCharts', [key], {});\n",
       "      } catch (error) {\n",
       "        console.error('Error during call to suggestCharts:', error);\n",
       "      }\n",
       "      quickchartButtonEl.classList.remove('colab-df-spinner');\n",
       "      quickchartButtonEl.classList.add('colab-df-quickchart-complete');\n",
       "    }\n",
       "    (() => {\n",
       "      let quickchartButtonEl =\n",
       "        document.querySelector('#df-2d9787ae-fc04-4d71-bec7-9c8b3204cd67 button');\n",
       "      quickchartButtonEl.style.display =\n",
       "        google.colab.kernel.accessAllowed ? 'block' : 'none';\n",
       "    })();\n",
       "  </script>\n",
       "</div>\n",
       "\n",
       "  <div id=\"id_db8056b7-97f3-4122-8d20-97da8075d984\">\n",
       "    <style>\n",
       "      .colab-df-generate {\n",
       "        background-color: #E8F0FE;\n",
       "        border: none;\n",
       "        border-radius: 50%;\n",
       "        cursor: pointer;\n",
       "        display: none;\n",
       "        fill: #1967D2;\n",
       "        height: 32px;\n",
       "        padding: 0 0 0 0;\n",
       "        width: 32px;\n",
       "      }\n",
       "\n",
       "      .colab-df-generate:hover {\n",
       "        background-color: #E2EBFA;\n",
       "        box-shadow: 0px 1px 2px rgba(60, 64, 67, 0.3), 0px 1px 3px 1px rgba(60, 64, 67, 0.15);\n",
       "        fill: #174EA6;\n",
       "      }\n",
       "\n",
       "      [theme=dark] .colab-df-generate {\n",
       "        background-color: #3B4455;\n",
       "        fill: #D2E3FC;\n",
       "      }\n",
       "\n",
       "      [theme=dark] .colab-df-generate:hover {\n",
       "        background-color: #434B5C;\n",
       "        box-shadow: 0px 1px 3px 1px rgba(0, 0, 0, 0.15);\n",
       "        filter: drop-shadow(0px 1px 2px rgba(0, 0, 0, 0.3));\n",
       "        fill: #FFFFFF;\n",
       "      }\n",
       "    </style>\n",
       "    <button class=\"colab-df-generate\" onclick=\"generateWithVariable('new_df')\"\n",
       "            title=\"Generate code using this dataframe.\"\n",
       "            style=\"display:none;\">\n",
       "\n",
       "  <svg xmlns=\"http://www.w3.org/2000/svg\" height=\"24px\"viewBox=\"0 0 24 24\"\n",
       "       width=\"24px\">\n",
       "    <path d=\"M7,19H8.4L18.45,9,17,7.55,7,17.6ZM5,21V16.75L18.45,3.32a2,2,0,0,1,2.83,0l1.4,1.43a1.91,1.91,0,0,1,.58,1.4,1.91,1.91,0,0,1-.58,1.4L9.25,21ZM18.45,9,17,7.55Zm-12,3A5.31,5.31,0,0,0,4.9,8.1,5.31,5.31,0,0,0,1,6.5,5.31,5.31,0,0,0,4.9,4.9,5.31,5.31,0,0,0,6.5,1,5.31,5.31,0,0,0,8.1,4.9,5.31,5.31,0,0,0,12,6.5,5.46,5.46,0,0,0,6.5,12Z\"/>\n",
       "  </svg>\n",
       "    </button>\n",
       "    <script>\n",
       "      (() => {\n",
       "      const buttonEl =\n",
       "        document.querySelector('#id_db8056b7-97f3-4122-8d20-97da8075d984 button.colab-df-generate');\n",
       "      buttonEl.style.display =\n",
       "        google.colab.kernel.accessAllowed ? 'block' : 'none';\n",
       "\n",
       "      buttonEl.onclick = () => {\n",
       "        google.colab.notebook.generateWithVariable('new_df');\n",
       "      }\n",
       "      })();\n",
       "    </script>\n",
       "  </div>\n",
       "\n",
       "    </div>\n",
       "  </div>\n"
      ],
      "text/plain": [
       "                                                   text  class\n",
       "0     how the cia is directly involved in every aspe...      0\n",
       "1     elon musk admits i felt like i was dying after...      1\n",
       "2     the uk gov. quietly published data confirming ...      1\n",
       "3     the global economic terror regime, which is lo...      0\n",
       "4     confirmed pharma fags crashed into a covid vac...      1\n",
       "...                                                 ...    ...\n",
       "5237  coming soon doctors for covid ethics fourth sy...      1\n",
       "5238  the vaccine mandates as i said last year have ...      1\n",
       "5239  Minority report in real life a group of social...      0\n",
       "5240  This is the reason why the Cabal does not want...      0\n",
       "5241  did you know the cdc is actually a vaccine com...      1\n",
       "\n",
       "[5242 rows x 2 columns]"
      ]
     },
     "execution_count": 11,
     "metadata": {},
     "output_type": "execute_result"
    }
   ],
   "source": [
    "df['class'] = df['category'].apply(lambda x: 1 if x == 'CRITICAL' else 0)\n",
    "\n",
    "new_df = df[['text', 'class']].copy()\n",
    "new_df"
   ]
  },
  {
   "cell_type": "code",
   "execution_count": null,
   "metadata": {
    "colab": {
     "base_uri": "https://localhost:8080/",
     "height": 87
    },
    "id": "czDReckDmsgC",
    "outputId": "3680a512-3c8f-4cb8-d0bb-22e86194cc91"
   },
   "outputs": [
    {
     "data": {
      "application/vnd.google.colaboratory.intrinsic+json": {
       "type": "string"
      },
      "text/plain": [
       "'how the cia is directly involved in every aspect of the creation of the vaccine passports . groups created by the cia like palantir , mitre , oracle , and google , funded through the cias venture capital firm , in q tel , are are involved . every one of them are listed on the organizational member lists of the private companies in charge of the creation of all worldwide passports . full article . dailyveracity . com the shadowy cia data firms behind the creation of digital vaccine passport ids full video . bitchute . com video ufysjysoe donna. The text reflects the emotion: inspiration and the moral value: loyalty'"
      ]
     },
     "execution_count": 15,
     "metadata": {},
     "output_type": "execute_result"
    }
   ],
   "source": [
    "new_df.loc[0].text"
   ]
  },
  {
   "cell_type": "markdown",
   "metadata": {
    "id": "SqveDcmDeVrZ"
   },
   "source": [
    "# Parámetros\n",
    "\n"
   ]
  },
  {
   "cell_type": "code",
   "execution_count": null,
   "metadata": {
    "colab": {
     "base_uri": "https://localhost:8080/"
    },
    "id": "ikfbFlNHgi8T",
    "outputId": "97b04d37-10e8-428a-981f-17623c4eaf88"
   },
   "outputs": [
    {
     "name": "stderr",
     "output_type": "stream",
     "text": [
      "/usr/local/lib/python3.10/dist-packages/huggingface_hub/utils/_auth.py:94: UserWarning: \n",
      "The secret `HF_TOKEN` does not exist in your Colab secrets.\n",
      "To authenticate with the Hugging Face Hub, create a token in your settings tab (https://huggingface.co/settings/tokens), set it as secret in your Google Colab and restart your session.\n",
      "You will be able to reuse this secret in all of your notebooks.\n",
      "Please note that authentication is recommended but still optional to access public models or datasets.\n",
      "  warnings.warn(\n",
      "Some weights of RobertaForSequenceClassification were not initialized from the model checkpoint at roberta-base and are newly initialized: ['classifier.dense.bias', 'classifier.dense.weight', 'classifier.out_proj.bias', 'classifier.out_proj.weight']\n",
      "You should probably TRAIN this model on a down-stream task to be able to use it for predictions and inference.\n"
     ]
    }
   ],
   "source": [
    "MAX_LEN = 512\n",
    "TRAIN_BATCH_SIZE = 16\n",
    "VALID_BATCH_SIZE = 16\n",
    "EPOCHS = 3\n",
    "LEARNING_RATE = 2e-5\n",
    "tokenizer = AutoTokenizer.from_pretrained('roberta-base')\n",
    "model = AutoModelForSequenceClassification.from_pretrained('roberta-base')\n"
   ]
  },
  {
   "cell_type": "code",
   "execution_count": null,
   "metadata": {
    "id": "oFOylAXqiNYK"
   },
   "outputs": [],
   "source": [
    "class CustomDataset(Dataset):\n",
    "\n",
    "    def __init__(self, dataframe, tokenizer, max_len):\n",
    "        self.tokenizer = tokenizer\n",
    "        self.data = dataframe\n",
    "        self.text = dataframe['text']\n",
    "        self.targets = self.data['class']\n",
    "        self.max_len = max_len\n",
    "\n",
    "    def __len__(self):\n",
    "        return len(self.text)\n",
    "\n",
    "    def __getitem__(self, index):\n",
    "        text = str(self.text[index])\n",
    "        text = \" \".join(text.split())\n",
    "\n",
    "        # Tokenize the text\n",
    "        inputs = self.tokenizer.encode_plus(\n",
    "            text,\n",
    "            add_special_tokens=True,\n",
    "            max_length=self.max_len,\n",
    "            padding='max_length',\n",
    "            truncation=True,\n",
    "            return_attention_mask=True,\n",
    "            return_tensors='pt'\n",
    "        )\n",
    "\n",
    "        ids = inputs['input_ids'].squeeze()\n",
    "        mask = inputs['attention_mask'].squeeze()\n",
    "\n",
    "\n",
    "        return {\n",
    "            'ids': ids,\n",
    "            'mask': mask,\n",
    "            'targets': torch.tensor(self.targets[index], dtype=torch.float)\n",
    "        }"
   ]
  },
  {
   "cell_type": "markdown",
   "metadata": {
    "id": "Y8Z3O2tFeVrb"
   },
   "source": [
    "# Modelos\n"
   ]
  },
  {
   "cell_type": "markdown",
   "metadata": {},
   "source": [
    "## Modelo Roberta Base "
   ]
  },
  {
   "cell_type": "code",
   "execution_count": null,
   "metadata": {},
   "outputs": [],
   "source": [
    "class RoBERTaClass(torch.nn.Module):\n",
    "    def __init__(self):\n",
    "        super(RoBERTaClass, self).__init__()\n",
    "        self.l1 = transformers.RobertaModel.from_pretrained('roberta-base')\n",
    "        self.l2 = torch.nn.Dropout(0.3)\n",
    "        self.l3 = torch.nn.Linear(768, 1)  \n",
    "\n",
    "    def forward(self, ids, mask):\n",
    "        _, output_1= self.l1(ids, attention_mask = mask, return_dict=False)\n",
    "        output_2 = self.l2(output_1)\n",
    "        output = self.l3(output_2).squeeze(1)\n",
    "        return output\n",
    "\n",
    "model = RoBERTaClass()\n",
    "model.to(device)"
   ]
  },
  {
   "cell_type": "markdown",
   "metadata": {},
   "source": [
    "## Modelo Roberta Base Modificado"
   ]
  },
  {
   "cell_type": "code",
   "execution_count": null,
   "metadata": {
    "colab": {
     "base_uri": "https://localhost:8080/"
    },
    "id": "ouH33ixDpjA3",
    "outputId": "e4fb3fb7-28c9-42a5-c3b9-dc2f59cf31fd"
   },
   "outputs": [
    {
     "name": "stderr",
     "output_type": "stream",
     "text": [
      "Some weights of RobertaModel were not initialized from the model checkpoint at roberta-base and are newly initialized: ['roberta.pooler.dense.bias', 'roberta.pooler.dense.weight']\n",
      "You should probably TRAIN this model on a down-stream task to be able to use it for predictions and inference.\n"
     ]
    }
   ],
   "source": [
    "import torch\n",
    "import torch.nn as nn\n",
    "import transformers\n",
    "\n",
    "class RoBERTaClass(torch.nn.Module):\n",
    "    def __init__(self):\n",
    "        super(RoBERTaClass, self).__init__()\n",
    "        # Cargar el modelo preentrenado roberta-base\n",
    "        self.l1 = transformers.RobertaModel.from_pretrained('roberta-base')\n",
    "\n",
    "        # Añadir Multi-Head Attention\n",
    "        self.multihead_attention = nn.MultiheadAttention(embed_dim=768, num_heads=8, dropout=0.3, batch_first=True)\n",
    "\n",
    "        # Dropout para regularización\n",
    "        self.l2 = nn.Dropout(0.3)\n",
    "\n",
    "        # Capa lineal para clasificación binaria\n",
    "        self.l3 = nn.Linear(768, 1) \n",
    "\n",
    "    def forward(self, ids, mask):\n",
    "        output = self.l1(ids, attention_mask=mask, return_dict=True)\n",
    "        hidden_states = output.last_hidden_state  # (batch_size, seq_len, hidden_dim)\n",
    "\n",
    "        # Paso 2: Aplicar Multi-Head Attention\n",
    "        attn_output, _ = self.multihead_attention(hidden_states, hidden_states, hidden_states, key_padding_mask=~mask.bool())\n",
    "\n",
    "        # Paso 3: Tomar el embedding del token [CLS] (posición 0)\n",
    "        cls_embedding = attn_output[:, 0, :]  # [CLS] después de atención [batch_size, hidden_dim]\n",
    "\n",
    "        # Paso 4: Aplicar Dropout\n",
    "        output_2 = self.l2(cls_embedding)\n",
    "\n",
    "        # Paso 5: Pasar por la capa de clasificación\n",
    "        output = self.l3(output_2).squeeze(1)\n",
    "\n",
    "        return output\n",
    "\n",
    "device = torch.device(\"cuda\" if torch.cuda.is_available() else \"cpu\")\n",
    "model = RoBERTaClass().to(device)\n"
   ]
  },
  {
   "cell_type": "code",
   "execution_count": null,
   "metadata": {},
   "outputs": [],
   "source": []
  },
  {
   "cell_type": "code",
   "execution_count": null,
   "metadata": {
    "id": "7KnNeQx6SI78"
   },
   "outputs": [],
   "source": [
    "def loss_fn(outputs, targets):\n",
    "    return torch.nn.BCEWithLogitsLoss()(outputs, targets)\n"
   ]
  },
  {
   "cell_type": "code",
   "execution_count": null,
   "metadata": {
    "id": "gUD8j0c7WsA-"
   },
   "outputs": [],
   "source": [
    "optimizer = torch.optim.Adam(params =  model.parameters(), lr=LEARNING_RATE)"
   ]
  },
  {
   "cell_type": "markdown",
   "metadata": {
    "id": "pW9UZ-l8msgI"
   },
   "source": [
    "# Fine Tuning (Cross Validation)"
   ]
  },
  {
   "cell_type": "code",
   "execution_count": null,
   "metadata": {
    "id": "BCj3VeoUAMy4"
   },
   "outputs": [],
   "source": [
    "def train(epoch, model, train_loader):\n",
    "    model.train()  \n",
    "    for _, data in enumerate(train_loader):\n",
    "        ids = data['ids'].to(device, dtype=torch.long)\n",
    "        mask = data['mask'].to(device, dtype=torch.long)\n",
    "        targets = data['targets'].to(device, dtype=torch.float)\n",
    "\n",
    "        optimizer.zero_grad()  \n",
    "        outputs = model(ids, mask)  \n",
    "        loss = loss_fn(outputs, targets)  \n",
    "\n",
    "        if _ % 5000 == 0:  \n",
    "            print(f'Epoch: {epoch}, Loss: {loss.item()}')\n",
    "\n",
    "        loss.backward()  \n",
    "        optimizer.step() \n",
    "\n",
    "def validation(model, data_loader, device):\n",
    "    model.eval()  \n",
    "    fin_targets = []  \n",
    "    fin_outputs = []  \n",
    "\n",
    "    with torch.no_grad():  \n",
    "        for data in data_loader:\n",
    "            ids = data['ids'].to(device)\n",
    "            mask = data['mask'].to(device)\n",
    "            targets = data['targets'].to(device)\n",
    "\n",
    "            outputs = model(ids, mask)  \n",
    "            outputs = torch.sigmoid(outputs)\n",
    "\n",
    "            fin_targets.extend(targets.cpu().detach().numpy().tolist())\n",
    "            fin_outputs.extend(outputs.cpu().detach().numpy().tolist())\n",
    "\n",
    "    return fin_outputs, fin_targets\n",
    "\n",
    "\n",
    "def evaluate_metrics(outputs, targets):\n",
    "    outputs = [1 if x > 0.5 else 0 for x in outputs]\n",
    "    accuracy = accuracy_score(targets, outputs)\n",
    "    precision, recall, f1, _ = precision_recall_fscore_support(targets, outputs, average='binary')\n",
    "    mcc = matthews_corrcoef(targets, outputs)  # Calcular MCC\n",
    "    return {\n",
    "        'accuracy': accuracy,\n",
    "        'precision': precision,\n",
    "        'recall': recall,\n",
    "        'f1': f1,\n",
    "        'mcc': mcc\n",
    "    }\n",
    "    print(f\"Accuracy: {accuracy:.4f}\")\n",
    "    print(f\"Precision: {precision:.4f}\")\n",
    "    print(f\"Recall: {recall:.4f}\")\n",
    "    print(f\"F1 Score: {f1:.4f}\")\n",
    "    print(f\"MCC: {mcc:.4f}\")\n",
    "\n",
    "\n",
    "def cross_validate_model(model, dataframe, tokenizer,title, epochs=3, batch_size=16, k_folds=5):\n",
    "    #kf = KFold(n_splits=k_folds, shuffle=True, random_state=42)\n",
    "    kf = StratifiedKFold(n_splits=k_folds, shuffle=True, random_state=42)\n",
    "\n",
    "    metrics_list = []\n",
    "    for fold, (train_idx, val_idx) in enumerate(kf.split(dataframe, dataframe['class'])):\n",
    "        print(f\"\\nFold {fold + 1}/{k_folds}\")\n",
    "        train_df = dataframe.iloc[train_idx].reset_index(drop=True)\n",
    "        val_df = dataframe.iloc[val_idx].reset_index(drop=True)\n",
    "\n",
    "        train_set = CustomDataset(train_df, tokenizer, MAX_LEN)\n",
    "        val_set = CustomDataset(val_df, tokenizer, MAX_LEN)\n",
    "\n",
    "        train_loader = DataLoader(train_set, batch_size=batch_size, shuffle=True)\n",
    "        val_loader = DataLoader(val_set, batch_size=batch_size, shuffle=False)\n",
    "\n",
    "        for epoch in range(epochs):\n",
    "            train(epoch, model, train_loader)  \n",
    "\n",
    "        outputs, targets = validation(model, val_loader, device)\n",
    "\n",
    "        fold_metrics=evaluate_metrics(outputs, targets)\n",
    "        metrics_list.append(fold_metrics)\n",
    "\n",
    "    metrics_df = pd.DataFrame(metrics_list)\n",
    "\n",
    "    metrics_df.to_csv(f'metrics{title}.csv', index=False)\n",
    "\n",
    "    print('Cross-validation complete')"
   ]
  },
  {
   "cell_type": "code",
   "execution_count": null,
   "metadata": {
    "colab": {
     "base_uri": "https://localhost:8080/"
    },
    "id": "YjH9wsfkAPwB",
    "outputId": "fb8a880c-6cb5-405b-f94b-f08bd9d975e5"
   },
   "outputs": [
    {
     "name": "stdout",
     "output_type": "stream",
     "text": [
      "\n",
      "Fold 1/5\n",
      "Epoch: 0, Loss: 0.6991593837738037\n",
      "Epoch: 1, Loss: 0.05224072188138962\n",
      "Epoch: 2, Loss: 0.12664887309074402\n",
      "\n",
      "Fold 2/5\n",
      "Epoch: 0, Loss: 0.006059621460735798\n",
      "Epoch: 1, Loss: 0.046710580587387085\n",
      "Epoch: 2, Loss: 0.01651146076619625\n",
      "\n",
      "Fold 3/5\n",
      "Epoch: 0, Loss: 0.0011810350697487593\n",
      "Epoch: 1, Loss: 0.010932333767414093\n",
      "Epoch: 2, Loss: 0.001720610773190856\n",
      "\n",
      "Fold 4/5\n",
      "Epoch: 0, Loss: 0.26116979122161865\n",
      "Epoch: 1, Loss: 0.0011455223429948092\n",
      "Epoch: 2, Loss: 0.0010025594383478165\n",
      "\n",
      "Fold 5/5\n",
      "Epoch: 0, Loss: 0.0012970640091225505\n",
      "Epoch: 1, Loss: 0.007878231815993786\n",
      "Epoch: 2, Loss: 0.0003566271043382585\n",
      "Cross-validation complete\n"
     ]
    }
   ],
   "source": [
    "\n",
    "cross_validate_model(model, new_df, tokenizer, 'moral_emo_512_8_2e5_newrl_skfold_augmented',epochs=3, batch_size=TRAIN_BATCH_SIZE, k_folds=5)\n"
   ]
  },
  {
   "cell_type": "markdown",
   "metadata": {
    "id": "WbQB5e2-eVre"
   },
   "source": [
    "# Guardar el modelo (opcional)"
   ]
  },
  {
   "cell_type": "code",
   "execution_count": null,
   "metadata": {
    "colab": {
     "base_uri": "https://localhost:8080/"
    },
    "id": "bALlzdeEBRWK",
    "outputId": "e30dcf0c-5e55-49c7-d924-ba6a302ca9a8"
   },
   "outputs": [
    {
     "name": "stdout",
     "output_type": "stream",
     "text": [
      "Mounted at /content/drive\n"
     ]
    }
   ],
   "source": [
    "\n",
    "from google.colab import drive\n",
    "drive.mount('/content/drive')"
   ]
  },
  {
   "cell_type": "code",
   "execution_count": null,
   "metadata": {
    "colab": {
     "base_uri": "https://localhost:8080/"
    },
    "id": "EbRCa-DgtmOe",
    "outputId": "485d41fd-eabe-478d-a903-2a6f73df0964"
   },
   "outputs": [
    {
     "name": "stdout",
     "output_type": "stream",
     "text": [
      "Drive already mounted at /content/drive; to attempt to forcibly remount, call drive.mount(\"/content/drive\", force_remount=True).\n",
      "Model and tokenizer saved for future inference.\n"
     ]
    }
   ],
   "source": [
    "MODEL_PATH = \"/content/drive/MyDrive/MASTER/NLP/NLP_PAN/modelroberta.pth\"\n",
    "\n",
    "torch.save(model.state_dict(), MODEL_PATH)\n"
   ]
  },
  {
   "cell_type": "markdown",
   "metadata": {
    "id": "gXrZVs7VuPyU"
   },
   "source": [
    "# Test"
   ]
  },
  {
   "cell_type": "code",
   "execution_count": null,
   "metadata": {
    "colab": {
     "base_uri": "https://localhost:8080/",
     "height": 423
    },
    "id": "GUnpQCwytmRR",
    "outputId": "47429c3d-3724-4c91-d017-89e68785ca6d"
   },
   "outputs": [
    {
     "data": {
      "application/vnd.google.colaboratory.intrinsic+json": {
       "summary": "{\n  \"name\": \"test_df\",\n  \"rows\": 1000,\n  \"fields\": [\n    {\n      \"column\": \"text\",\n      \"properties\": {\n        \"dtype\": \"string\",\n        \"num_unique_values\": 999,\n        \"samples\": [\n          \"they are murdering people wake up new unusual spike in reports astrazeneca vaccine causes serious neurological condition . jab s chimpanzee adenovirus trojan horse delivery system linked to thousands of guillain barr\\u00e9 syndrome cases . . telegraph . co . uk news astrazeneca vaccine may increase risk serious neurological condition\",\n          \"video dr john campbell gives his classically eloquent analysis of the pfizer document , which leaves him almost lost for words . the recently released pfizer document cumulative analysis of post authorization adverse event reports evidences a significant number of adverse events as a result of injection of a pfizer biontech covid bntb vaccine product . there are nine pages within pfizer s report which detail extremely serious harms , injuries , and deaths their vaccines are causing worldwide . this is a document pfizer were trying to keep from being released to the public for seventy five years . . notonthebeeb . co . uk post dr john campbell shocked by the pfizer docs\",\n          \"this is what nick fleming called the great shift this week in his message . but his great shift is for the financial shift of the planet , a per say on the ground result or derivative of the shift to greater human consciousness . we will move to the great laws of nesara gesara national economic security and reformation act , the other is just global , all countries . from my sources , all will be revealed and done by end of march . here is a list of tools on earth that will be used for earth s freedom starlink , qfs , global currency reset , debt forgiveness , common and universal laws . some will be enacted soon , others later . i will quote michelle fielding on as saying the one final military marker is queen elizabeth s death announcement . she has been executed some time ago , for crimes against humanity , but the public announcement is important for the reveal to the public by the earth alliance that military operations are complete . other markers have been completed , and some more minor ones have not . but clearly , we are in the final stage s military wise , and ready to begin disclosure to the masses . disclosure still looks like the ebs emergency broadcast system . here is what queen romana says i know ebs , is needed . these things need to be made public the corruption , criminality , false economy , the intentional manipulation , deception , and programming dumbing down of the we the people , and the evil deeds satanic of the past passed leaders need to be revealed the exchanging of baby boys , baby girls and adults men and women for earthly control , powers , and wealth , etc . all of these violate the prime directives of , do not do intentional harm to humanity . some others say now , not the ebs , it will be the trump tv channel and social media that will be activated for disclosure in february of . zorra stated the ebs will come out too . as for the days of darkness , my sources say that has been done . for this was the arrests and the cabal bad days , that was done in november . the formal disclosure looks to be the ten days of darkness for the fake msm and social media while we tell the true on tv , what a great thing . it will be shut down temporary , to get the truth out . i would rather call it the ten days of the light or the truth , myself . zorra clearly has stated the countdown has started , but no indication of the starting point . understand my sources says there will not be a big stock crash or upheaval in economic terms , we have been in a great downturn since covid and do not need humanity to suffer anymore . we do know that some stocks are cia fronts and some are pure cabal companies , the alliance has taken care of this already , and will not allow , savings of the people to suffer this is the same as blowing up many things worldwide , is that what the cabal did all the time , wars and things like , we do not need that anymore . the blow up is the vast information of truth for some individuals , some will not believe or go to their save havens to get relief . on the great shift , as you have read , all indications , from all sources , it is already started celebrate we do know starlink satellite systems will be extremely secure system compared with current open back door cabal internet and banking system we have now . this is a major accomplishment and freedom for humanity , once we shift to starlink . for it will take away all the cabal money and power in one giant swoop . but understand the qfs software has infiltrated the current banking swift system and is why we have been able to arrest corrupt bankers and cabal members for some time now . this starlink software is the most advanced in the world , and will know your intent with the money , it will stop all criminal activity through money in the great shift , financially .\"\n        ],\n        \"semantic_type\": \"\",\n        \"description\": \"\"\n      }\n    },\n    {\n      \"column\": \"class\",\n      \"properties\": {\n        \"dtype\": \"number\",\n        \"std\": 0,\n        \"min\": 0,\n        \"max\": 1,\n        \"num_unique_values\": 2,\n        \"samples\": [\n          1,\n          0\n        ],\n        \"semantic_type\": \"\",\n        \"description\": \"\"\n      }\n    }\n  ]\n}",
       "type": "dataframe",
       "variable_name": "test_df"
      },
      "text/html": [
       "\n",
       "  <div id=\"df-a98c043e-4ea1-47c3-98d8-25b951208716\" class=\"colab-df-container\">\n",
       "    <div>\n",
       "<style scoped>\n",
       "    .dataframe tbody tr th:only-of-type {\n",
       "        vertical-align: middle;\n",
       "    }\n",
       "\n",
       "    .dataframe tbody tr th {\n",
       "        vertical-align: top;\n",
       "    }\n",
       "\n",
       "    .dataframe thead th {\n",
       "        text-align: right;\n",
       "    }\n",
       "</style>\n",
       "<table border=\"1\" class=\"dataframe\">\n",
       "  <thead>\n",
       "    <tr style=\"text-align: right;\">\n",
       "      <th></th>\n",
       "      <th>text</th>\n",
       "      <th>class</th>\n",
       "    </tr>\n",
       "  </thead>\n",
       "  <tbody>\n",
       "    <tr>\n",
       "      <th>0</th>\n",
       "      <td>elon now confirming what we ve been suspecting...</td>\n",
       "      <td>0</td>\n",
       "    </tr>\n",
       "    <tr>\n",
       "      <th>1</th>\n",
       "      <td>keeping the pressure on the police to uphold t...</td>\n",
       "      <td>0</td>\n",
       "    </tr>\n",
       "    <tr>\n",
       "      <th>2</th>\n",
       "      <td>safe effective the greatest lie ever told . th...</td>\n",
       "      <td>1</td>\n",
       "    </tr>\n",
       "    <tr>\n",
       "      <th>3</th>\n",
       "      <td>cdc report admits . million people in the usa ...</td>\n",
       "      <td>1</td>\n",
       "    </tr>\n",
       "    <tr>\n",
       "      <th>4</th>\n",
       "      <td>how to use health to acquire totalitarian cont...</td>\n",
       "      <td>0</td>\n",
       "    </tr>\n",
       "    <tr>\n",
       "      <th>...</th>\n",
       "      <td>...</td>\n",
       "      <td>...</td>\n",
       "    </tr>\n",
       "    <tr>\n",
       "      <th>995</th>\n",
       "      <td>john d. rockefeller wiped out natural cures to...</td>\n",
       "      <td>0</td>\n",
       "    </tr>\n",
       "    <tr>\n",
       "      <th>996</th>\n",
       "      <td>fact check biden white house falsely accuses d...</td>\n",
       "      <td>1</td>\n",
       "    </tr>\n",
       "    <tr>\n",
       "      <th>997</th>\n",
       "      <td>w onset acral hand lesions following mrna vacc...</td>\n",
       "      <td>1</td>\n",
       "    </tr>\n",
       "    <tr>\n",
       "      <th>998</th>\n",
       "      <td>we will fire unvaccinated workers cohen hadad ...</td>\n",
       "      <td>1</td>\n",
       "    </tr>\n",
       "    <tr>\n",
       "      <th>999</th>\n",
       "      <td>they are gearing up for the booster kill shot ...</td>\n",
       "      <td>0</td>\n",
       "    </tr>\n",
       "  </tbody>\n",
       "</table>\n",
       "<p>1000 rows × 2 columns</p>\n",
       "</div>\n",
       "    <div class=\"colab-df-buttons\">\n",
       "\n",
       "  <div class=\"colab-df-container\">\n",
       "    <button class=\"colab-df-convert\" onclick=\"convertToInteractive('df-a98c043e-4ea1-47c3-98d8-25b951208716')\"\n",
       "            title=\"Convert this dataframe to an interactive table.\"\n",
       "            style=\"display:none;\">\n",
       "\n",
       "  <svg xmlns=\"http://www.w3.org/2000/svg\" height=\"24px\" viewBox=\"0 -960 960 960\">\n",
       "    <path d=\"M120-120v-720h720v720H120Zm60-500h600v-160H180v160Zm220 220h160v-160H400v160Zm0 220h160v-160H400v160ZM180-400h160v-160H180v160Zm440 0h160v-160H620v160ZM180-180h160v-160H180v160Zm440 0h160v-160H620v160Z\"/>\n",
       "  </svg>\n",
       "    </button>\n",
       "\n",
       "  <style>\n",
       "    .colab-df-container {\n",
       "      display:flex;\n",
       "      gap: 12px;\n",
       "    }\n",
       "\n",
       "    .colab-df-convert {\n",
       "      background-color: #E8F0FE;\n",
       "      border: none;\n",
       "      border-radius: 50%;\n",
       "      cursor: pointer;\n",
       "      display: none;\n",
       "      fill: #1967D2;\n",
       "      height: 32px;\n",
       "      padding: 0 0 0 0;\n",
       "      width: 32px;\n",
       "    }\n",
       "\n",
       "    .colab-df-convert:hover {\n",
       "      background-color: #E2EBFA;\n",
       "      box-shadow: 0px 1px 2px rgba(60, 64, 67, 0.3), 0px 1px 3px 1px rgba(60, 64, 67, 0.15);\n",
       "      fill: #174EA6;\n",
       "    }\n",
       "\n",
       "    .colab-df-buttons div {\n",
       "      margin-bottom: 4px;\n",
       "    }\n",
       "\n",
       "    [theme=dark] .colab-df-convert {\n",
       "      background-color: #3B4455;\n",
       "      fill: #D2E3FC;\n",
       "    }\n",
       "\n",
       "    [theme=dark] .colab-df-convert:hover {\n",
       "      background-color: #434B5C;\n",
       "      box-shadow: 0px 1px 3px 1px rgba(0, 0, 0, 0.15);\n",
       "      filter: drop-shadow(0px 1px 2px rgba(0, 0, 0, 0.3));\n",
       "      fill: #FFFFFF;\n",
       "    }\n",
       "  </style>\n",
       "\n",
       "    <script>\n",
       "      const buttonEl =\n",
       "        document.querySelector('#df-a98c043e-4ea1-47c3-98d8-25b951208716 button.colab-df-convert');\n",
       "      buttonEl.style.display =\n",
       "        google.colab.kernel.accessAllowed ? 'block' : 'none';\n",
       "\n",
       "      async function convertToInteractive(key) {\n",
       "        const element = document.querySelector('#df-a98c043e-4ea1-47c3-98d8-25b951208716');\n",
       "        const dataTable =\n",
       "          await google.colab.kernel.invokeFunction('convertToInteractive',\n",
       "                                                    [key], {});\n",
       "        if (!dataTable) return;\n",
       "\n",
       "        const docLinkHtml = 'Like what you see? Visit the ' +\n",
       "          '<a target=\"_blank\" href=https://colab.research.google.com/notebooks/data_table.ipynb>data table notebook</a>'\n",
       "          + ' to learn more about interactive tables.';\n",
       "        element.innerHTML = '';\n",
       "        dataTable['output_type'] = 'display_data';\n",
       "        await google.colab.output.renderOutput(dataTable, element);\n",
       "        const docLink = document.createElement('div');\n",
       "        docLink.innerHTML = docLinkHtml;\n",
       "        element.appendChild(docLink);\n",
       "      }\n",
       "    </script>\n",
       "  </div>\n",
       "\n",
       "\n",
       "<div id=\"df-60b2c31d-7b49-4a35-a4de-4ec99f07ec9b\">\n",
       "  <button class=\"colab-df-quickchart\" onclick=\"quickchart('df-60b2c31d-7b49-4a35-a4de-4ec99f07ec9b')\"\n",
       "            title=\"Suggest charts\"\n",
       "            style=\"display:none;\">\n",
       "\n",
       "<svg xmlns=\"http://www.w3.org/2000/svg\" height=\"24px\"viewBox=\"0 0 24 24\"\n",
       "     width=\"24px\">\n",
       "    <g>\n",
       "        <path d=\"M19 3H5c-1.1 0-2 .9-2 2v14c0 1.1.9 2 2 2h14c1.1 0 2-.9 2-2V5c0-1.1-.9-2-2-2zM9 17H7v-7h2v7zm4 0h-2V7h2v10zm4 0h-2v-4h2v4z\"/>\n",
       "    </g>\n",
       "</svg>\n",
       "  </button>\n",
       "\n",
       "<style>\n",
       "  .colab-df-quickchart {\n",
       "      --bg-color: #E8F0FE;\n",
       "      --fill-color: #1967D2;\n",
       "      --hover-bg-color: #E2EBFA;\n",
       "      --hover-fill-color: #174EA6;\n",
       "      --disabled-fill-color: #AAA;\n",
       "      --disabled-bg-color: #DDD;\n",
       "  }\n",
       "\n",
       "  [theme=dark] .colab-df-quickchart {\n",
       "      --bg-color: #3B4455;\n",
       "      --fill-color: #D2E3FC;\n",
       "      --hover-bg-color: #434B5C;\n",
       "      --hover-fill-color: #FFFFFF;\n",
       "      --disabled-bg-color: #3B4455;\n",
       "      --disabled-fill-color: #666;\n",
       "  }\n",
       "\n",
       "  .colab-df-quickchart {\n",
       "    background-color: var(--bg-color);\n",
       "    border: none;\n",
       "    border-radius: 50%;\n",
       "    cursor: pointer;\n",
       "    display: none;\n",
       "    fill: var(--fill-color);\n",
       "    height: 32px;\n",
       "    padding: 0;\n",
       "    width: 32px;\n",
       "  }\n",
       "\n",
       "  .colab-df-quickchart:hover {\n",
       "    background-color: var(--hover-bg-color);\n",
       "    box-shadow: 0 1px 2px rgba(60, 64, 67, 0.3), 0 1px 3px 1px rgba(60, 64, 67, 0.15);\n",
       "    fill: var(--button-hover-fill-color);\n",
       "  }\n",
       "\n",
       "  .colab-df-quickchart-complete:disabled,\n",
       "  .colab-df-quickchart-complete:disabled:hover {\n",
       "    background-color: var(--disabled-bg-color);\n",
       "    fill: var(--disabled-fill-color);\n",
       "    box-shadow: none;\n",
       "  }\n",
       "\n",
       "  .colab-df-spinner {\n",
       "    border: 2px solid var(--fill-color);\n",
       "    border-color: transparent;\n",
       "    border-bottom-color: var(--fill-color);\n",
       "    animation:\n",
       "      spin 1s steps(1) infinite;\n",
       "  }\n",
       "\n",
       "  @keyframes spin {\n",
       "    0% {\n",
       "      border-color: transparent;\n",
       "      border-bottom-color: var(--fill-color);\n",
       "      border-left-color: var(--fill-color);\n",
       "    }\n",
       "    20% {\n",
       "      border-color: transparent;\n",
       "      border-left-color: var(--fill-color);\n",
       "      border-top-color: var(--fill-color);\n",
       "    }\n",
       "    30% {\n",
       "      border-color: transparent;\n",
       "      border-left-color: var(--fill-color);\n",
       "      border-top-color: var(--fill-color);\n",
       "      border-right-color: var(--fill-color);\n",
       "    }\n",
       "    40% {\n",
       "      border-color: transparent;\n",
       "      border-right-color: var(--fill-color);\n",
       "      border-top-color: var(--fill-color);\n",
       "    }\n",
       "    60% {\n",
       "      border-color: transparent;\n",
       "      border-right-color: var(--fill-color);\n",
       "    }\n",
       "    80% {\n",
       "      border-color: transparent;\n",
       "      border-right-color: var(--fill-color);\n",
       "      border-bottom-color: var(--fill-color);\n",
       "    }\n",
       "    90% {\n",
       "      border-color: transparent;\n",
       "      border-bottom-color: var(--fill-color);\n",
       "    }\n",
       "  }\n",
       "</style>\n",
       "\n",
       "  <script>\n",
       "    async function quickchart(key) {\n",
       "      const quickchartButtonEl =\n",
       "        document.querySelector('#' + key + ' button');\n",
       "      quickchartButtonEl.disabled = true;  // To prevent multiple clicks.\n",
       "      quickchartButtonEl.classList.add('colab-df-spinner');\n",
       "      try {\n",
       "        const charts = await google.colab.kernel.invokeFunction(\n",
       "            'suggestCharts', [key], {});\n",
       "      } catch (error) {\n",
       "        console.error('Error during call to suggestCharts:', error);\n",
       "      }\n",
       "      quickchartButtonEl.classList.remove('colab-df-spinner');\n",
       "      quickchartButtonEl.classList.add('colab-df-quickchart-complete');\n",
       "    }\n",
       "    (() => {\n",
       "      let quickchartButtonEl =\n",
       "        document.querySelector('#df-60b2c31d-7b49-4a35-a4de-4ec99f07ec9b button');\n",
       "      quickchartButtonEl.style.display =\n",
       "        google.colab.kernel.accessAllowed ? 'block' : 'none';\n",
       "    })();\n",
       "  </script>\n",
       "</div>\n",
       "\n",
       "  <div id=\"id_3f03bc2b-8911-46a5-a5bf-2d1bc1044024\">\n",
       "    <style>\n",
       "      .colab-df-generate {\n",
       "        background-color: #E8F0FE;\n",
       "        border: none;\n",
       "        border-radius: 50%;\n",
       "        cursor: pointer;\n",
       "        display: none;\n",
       "        fill: #1967D2;\n",
       "        height: 32px;\n",
       "        padding: 0 0 0 0;\n",
       "        width: 32px;\n",
       "      }\n",
       "\n",
       "      .colab-df-generate:hover {\n",
       "        background-color: #E2EBFA;\n",
       "        box-shadow: 0px 1px 2px rgba(60, 64, 67, 0.3), 0px 1px 3px 1px rgba(60, 64, 67, 0.15);\n",
       "        fill: #174EA6;\n",
       "      }\n",
       "\n",
       "      [theme=dark] .colab-df-generate {\n",
       "        background-color: #3B4455;\n",
       "        fill: #D2E3FC;\n",
       "      }\n",
       "\n",
       "      [theme=dark] .colab-df-generate:hover {\n",
       "        background-color: #434B5C;\n",
       "        box-shadow: 0px 1px 3px 1px rgba(0, 0, 0, 0.15);\n",
       "        filter: drop-shadow(0px 1px 2px rgba(0, 0, 0, 0.3));\n",
       "        fill: #FFFFFF;\n",
       "      }\n",
       "    </style>\n",
       "    <button class=\"colab-df-generate\" onclick=\"generateWithVariable('test_df')\"\n",
       "            title=\"Generate code using this dataframe.\"\n",
       "            style=\"display:none;\">\n",
       "\n",
       "  <svg xmlns=\"http://www.w3.org/2000/svg\" height=\"24px\"viewBox=\"0 0 24 24\"\n",
       "       width=\"24px\">\n",
       "    <path d=\"M7,19H8.4L18.45,9,17,7.55,7,17.6ZM5,21V16.75L18.45,3.32a2,2,0,0,1,2.83,0l1.4,1.43a1.91,1.91,0,0,1,.58,1.4,1.91,1.91,0,0,1-.58,1.4L9.25,21ZM18.45,9,17,7.55Zm-12,3A5.31,5.31,0,0,0,4.9,8.1,5.31,5.31,0,0,0,1,6.5,5.31,5.31,0,0,0,4.9,4.9,5.31,5.31,0,0,0,6.5,1,5.31,5.31,0,0,0,8.1,4.9,5.31,5.31,0,0,0,12,6.5,5.46,5.46,0,0,0,6.5,12Z\"/>\n",
       "  </svg>\n",
       "    </button>\n",
       "    <script>\n",
       "      (() => {\n",
       "      const buttonEl =\n",
       "        document.querySelector('#id_3f03bc2b-8911-46a5-a5bf-2d1bc1044024 button.colab-df-generate');\n",
       "      buttonEl.style.display =\n",
       "        google.colab.kernel.accessAllowed ? 'block' : 'none';\n",
       "\n",
       "      buttonEl.onclick = () => {\n",
       "        google.colab.notebook.generateWithVariable('test_df');\n",
       "      }\n",
       "      })();\n",
       "    </script>\n",
       "  </div>\n",
       "\n",
       "    </div>\n",
       "  </div>\n"
      ],
      "text/plain": [
       "                                                  text  class\n",
       "0    elon now confirming what we ve been suspecting...      0\n",
       "1    keeping the pressure on the police to uphold t...      0\n",
       "2    safe effective the greatest lie ever told . th...      1\n",
       "3    cdc report admits . million people in the usa ...      1\n",
       "4    how to use health to acquire totalitarian cont...      0\n",
       "..                                                 ...    ...\n",
       "995  john d. rockefeller wiped out natural cures to...      0\n",
       "996  fact check biden white house falsely accuses d...      1\n",
       "997  w onset acral hand lesions following mrna vacc...      1\n",
       "998  we will fire unvaccinated workers cohen hadad ...      1\n",
       "999  they are gearing up for the booster kill shot ...      0\n",
       "\n",
       "[1000 rows x 2 columns]"
      ]
     },
     "execution_count": 26,
     "metadata": {},
     "output_type": "execute_result"
    }
   ],
   "source": [
    "test_df = pd.read_csv(\"dataset_en_test_cleaned.csv\")\n",
    "test_df['class'] = test_df['category'].apply(lambda x: 1 if x == 'CRITICAL' else 0)\n",
    "test_df = test_df[['text', 'class']].copy()\n",
    "test_df"
   ]
  },
  {
   "cell_type": "code",
   "execution_count": null,
   "metadata": {
    "colab": {
     "base_uri": "https://localhost:8080/"
    },
    "id": "3M7c-GJjmsgO",
    "outputId": "96940dfc-7f6f-4edd-b873-5b3b9f64a90b"
   },
   "outputs": [
    {
     "name": "stdout",
     "output_type": "stream",
     "text": [
      "Test results saved to /content/drive/MyDrive/MASTER/NLP/test_evaluation_results_512_2e5_moral_emotions_robertanew_skfold_augmented.json\n",
      "Test MCC = 0.8036425977219992\n"
     ]
    }
   ],
   "source": [
    "model.eval()\n",
    "def predict(text, model, tokenizer):\n",
    "    inputs = tokenizer.encode_plus(\n",
    "        text,\n",
    "        None,\n",
    "        add_special_tokens=True,\n",
    "        max_length=MAX_LEN,\n",
    "        padding='max_length',\n",
    "        truncation=True,\n",
    "        return_tensors='pt'\n",
    "    )\n",
    "\n",
    "    ids = inputs['input_ids'].to(device)\n",
    "    mask = inputs['attention_mask'].to(device)\n",
    "\n",
    "    with torch.no_grad():\n",
    "        outputs = model(ids, mask)\n",
    "        probabilities = torch.sigmoid(outputs).cpu().numpy()\n",
    "        prediction = 1 if probabilities[0] >= 0.5 else 0\n",
    "\n",
    "    return prediction, probabilities[0]\n",
    "\n",
    "\n",
    "def test_and_evaluate(model, tokenizer, test_df, filename=\"test_results.json\"):\n",
    "    predictions = []\n",
    "    probabilities = []\n",
    "\n",
    "    # Iterate over the test data and generate predictions\n",
    "    for index, row in test_df.iterrows():\n",
    "        text = row['text']\n",
    "        prediction, probability = predict(text, model, tokenizer)  # Assuming predict() function is defined\n",
    "        predictions.append(prediction)\n",
    "        probabilities.append(probability)\n",
    "\n",
    "    # Add predictions and probabilities to the DataFrame\n",
    "    test_df['predictions'] = predictions\n",
    "    test_df['probabilities'] = probabilities\n",
    "\n",
    "    # Calculate metrics\n",
    "    mcc = matthews_corrcoef(test_df['class'], test_df['predictions'])\n",
    "\n",
    "    # Generate classification report\n",
    "    results = classification_report(\n",
    "        test_df['class'],\n",
    "        test_df['predictions'],\n",
    "        target_names=['CONSPIRANCY', 'CRITICAL'],  # Specify labels for better readability\n",
    "        digits=5,\n",
    "        output_dict=True\n",
    "    )\n",
    "\n",
    "\n",
    "\n",
    "    # Save results and MCC to a JSON file\n",
    "    output_data = {\n",
    "        \"mcc\": mcc,\n",
    "        \"classification_report\": results\n",
    "    }\n",
    "\n",
    "    with open(filename, \"w\") as f:\n",
    "        json.dump(output_data, f, indent=4)\n",
    "\n",
    "    print(f\"Test results saved to {filename}\")\n",
    "    print(f\"Test MCC = {mcc}\")\n",
    "\n",
    "# Example usage:\n",
    "test_and_evaluate(model, tokenizer, test_df, filename=\"/content/drive/MyDrive/MASTER/NLP/test_evaluation_results_512_2e5_moral_emotions_robertanew_skfold_augmented.json\")"
   ]
  },
  {
   "cell_type": "code",
   "execution_count": null,
   "metadata": {
    "id": "oKJOtP3imsgP"
   },
   "outputs": [],
   "source": []
  }
 ],
 "metadata": {
  "accelerator": "GPU",
  "colab": {
   "collapsed_sections": [
    "D_klmnXeeVrc"
   ],
   "gpuType": "T4",
   "provenance": []
  },
  "kernelspec": {
   "display_name": "Python 3 (ipykernel)",
   "language": "python",
   "name": "python3"
  },
  "language_info": {
   "codemirror_mode": {
    "name": "ipython",
    "version": 3
   },
   "file_extension": ".py",
   "mimetype": "text/x-python",
   "name": "python",
   "nbconvert_exporter": "python",
   "pygments_lexer": "ipython3",
   "version": "3.8.12"
  }
 },
 "nbformat": 4,
 "nbformat_minor": 4
}
